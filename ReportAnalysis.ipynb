{
 "cells": [
  {
   "cell_type": "markdown",
   "metadata": {},
   "source": [
    "#### _analysis for  the TrackSelectorByRegion_"
   ]
  },
  {
   "cell_type": "markdown",
   "metadata": {},
   "source": [
    "### Read the HLT-Report \n",
    "*HLTReport*\n",
    "  * path name\n",
    "    * WasRun\n",
    "    * L1S\n",
    "    * Pre\n",
    "    * HLT\n",
    "    * %L1sPre\n",
    "    * Rate\n",
    "    * RateHi\n",
    "    * Errors"
   ]
  },
  {
   "cell_type": "code",
   "execution_count": null,
   "metadata": {
    "code_folding": [
     0
    ]
   },
   "outputs": [],
   "source": [
    "def getHLTReport(fname):\n",
    "    f=open('logNoCust','r')\n",
    "    l=f.readline()\n",
    "    hltReportDict={'WasRun':0.0,'L1S':0.0,'Pre':0.0,'HLT':0.0,'%L1sPre':0,'Rate':0.0,'RateHi':0.0, 'Errors':0}\n",
    "    hltReportKeys=list(hltReportDict.keys())\n",
    "    HLTReport={}\n",
    "    SummaryFlag=False\n",
    "    while l:\n",
    "        if 'HLT-Report' not in l:\n",
    "            l=f.readline()\n",
    "            continue\n",
    "        if '---------- HLTrig Summary ------------' in l:\n",
    "            SummaryFlag=True\n",
    "            l=f.readline()\n",
    "            l=f.readline()\n",
    "            continue\n",
    "        if 'end!' in l:\n",
    "            SummaryFlag=False\n",
    "            break\n",
    "        if SummaryFlag:\n",
    "            currdict=hltReportDict.copy()\n",
    "            items=l[:-1].split(' ')\n",
    "            while '' in items:\n",
    "                items.remove('')\n",
    "            items.pop(0)\n",
    "            items.pop(0)\n",
    "            for i in range(len(hltReportKeys)):\n",
    "                currdict[hltReportKeys[i]]=float(items[i])\n",
    "            HLTReport.update({items[-1]:currdict})\n",
    "        l=f.readline()\n",
    "    f.close()\n",
    "    return HLTReport"
   ]
  },
  {
   "cell_type": "markdown",
   "metadata": {},
   "source": [
    "### Read the Time Report\n",
    " \n",
    "*TimeReport*\n",
    "  * pathSummary\n",
    "    * perEvent\n",
    "    * perExec\n",
    "    \n",
    "  * pathDetails \n",
    "    * path_name\n",
    "      * perEvent \n",
    "      * perVisit\n",
    "      * Name\n",
    "      \n",
    "  * moduleSummary \n",
    "    * module_name\n",
    "      * perEvent\n",
    "      * perExec\n",
    "      * perVisit  \n",
    "    "
   ]
  },
  {
   "cell_type": "code",
   "execution_count": null,
   "metadata": {
    "code_folding": [
     0
    ]
   },
   "outputs": [],
   "source": [
    "def getTimeReport(fname):\n",
    "    f=open(fname,'r')\n",
    "    l=f.readline()\n",
    "\n",
    "    timeReportDict={'perEvent':0.0,'perExec':0.0}\n",
    "    timeReportKeys=list(timeReportDict.keys())\n",
    "\n",
    "    timeReportDetailsDict={'perEvent':[],'perVisit':[],'Name':[]}\n",
    "    timeReportDetailsDictKeys=list(timeReportDetailsDict.keys())\n",
    "\n",
    "    timeReportModulesDict={'perEvent':[],'perExec':[],'perVisit':[]}\n",
    "    timeReportModulesDictKeys=list(timeReportModulesDict.keys())\n",
    "\n",
    "    TimeReport={'pathSummary':{},'pathDetails':{},'moduleSummary':{}}\n",
    "    SummaryFlag=False\n",
    "    DetailsFlag=False\n",
    "    ModulesFlag=False\n",
    "    while l:\n",
    "        if 'TimeReport' not in l:\n",
    "            SummaryFlag=False\n",
    "            DetailsFlag=False\n",
    "            ModulesFlag=False\n",
    "            l=f.readline()\n",
    "            continue\n",
    "        if 'per event    per visit  Name' in l :\n",
    "            l=f.readline()\n",
    "            continue\n",
    "    #     print(l[:-1])\n",
    "        if '---------- Path   Summary ---' in l:\n",
    "            SummaryFlag=True\n",
    "            l=f.readline()\n",
    "            l=f.readline()\n",
    "            continue\n",
    "        if '---------- Module Summary --' in l:\n",
    "            ModulesFlag=True\n",
    "            l=f.readline()\n",
    "            l=f.readline()\n",
    "            continue\n",
    "\n",
    "        if '---------- Modules in Path:' in l:\n",
    "            DetailsFlag=True\n",
    "            l=l[:-1].replace(\"---------- Modules in Path: \",\"\")\n",
    "            l=l.replace(\" ---[Real sec]----\",\"\")\n",
    "            currPath=l.replace(\"TimeReport \",\"\")\n",
    "            TimeReport['pathDetails'].update({currPath:timeReportDetailsDict.copy()})\n",
    "    #         print(l)\n",
    "            l=f.readline()\n",
    "            l=f.readline()\n",
    "            continue\n",
    "\n",
    "        ## bug fix\n",
    "        if 'per event ' in l:\n",
    "            SummaryFlag=False\n",
    "            ModulesFlag=False\n",
    "\n",
    "        if SummaryFlag:\n",
    "            currdict=timeReportDict.copy()\n",
    "            items=l[:-1].split(' ')\n",
    "            while '' in items:\n",
    "                items.remove('')\n",
    "            items.pop(0)\n",
    "    #         print(items)\n",
    "            for i in range(len(timeReportKeys)):\n",
    "                currdict[timeReportKeys[i]]=float(items[i])\n",
    "            TimeReport['pathSummary'].update({items[-1]:currdict})\n",
    "\n",
    "        if DetailsFlag:\n",
    "    #         print(l[:-1])\n",
    "            items=l[:-1].split(' ')\n",
    "            while '' in items:\n",
    "                items.remove('')\n",
    "            items.pop(0)\n",
    "            for i in range(len(timeReportDetailsDictKeys)-1):\n",
    "                TimeReport['pathDetails'][currPath][timeReportDetailsDictKeys[i]].append(float(items[i]))\n",
    "            TimeReport['pathDetails'][currPath][timeReportDetailsDictKeys[-1]].append(items[i])\n",
    "\n",
    "        if ModulesFlag:\n",
    "            currdict=timeReportModulesDict.copy()\n",
    "            items=l[:-1].split(' ')\n",
    "            while '' in items:\n",
    "                items.remove('')\n",
    "            items.pop(0)\n",
    "    #         print(l[:-1])\n",
    "    #         print(items)\n",
    "            for i in range(len(timeReportModulesDictKeys)):\n",
    "                currdict[timeReportModulesDictKeys[i]]=float(items[i])\n",
    "            TimeReport['moduleSummary'].update({items[-1]:currdict})\n",
    "\n",
    "        l=f.readline()\n",
    "    f.close()\n",
    "    return TimeReport"
   ]
  },
  {
   "cell_type": "markdown",
   "metadata": {},
   "source": [
    "#### Analysis"
   ]
  },
  {
   "cell_type": "code",
   "execution_count": null,
   "metadata": {},
   "outputs": [],
   "source": [
    "origHLTReport=getHLTReport('logNoCust')\n",
    "origTimeReport=getTimeReport('logNoCust')\n",
    "print(\" total number of  paths  = \",len(HLTReport))\n",
    "print(\" total number of  paths in pathSummary  = \",len(origTimeReport['pathSummary']))\n",
    "print(\" total number of  paths in pathDetails  = \",len(origTimeReport['pathDetails']))\n",
    "print(\" total number of  modules in moduleSummary  = \",len(origTimeReport['moduleSummary']))"
   ]
  },
  {
   "cell_type": "code",
   "execution_count": null,
   "metadata": {},
   "outputs": [],
   "source": [
    "custHLTReport=getHLTReport('logWithMuonCust')\n",
    "custTimeReport=getTimeReport('logWithMuonCust')\n",
    "print(\" total number of  paths  = \",len(HLTReport))\n",
    "print(\" total number of  paths in pathSummary  = \",len(custTimeReport['pathSummary']))\n",
    "print(\" total number of  paths in pathDetails  = \",len(custTimeReport['pathDetails']))\n",
    "print(\" total number of  modules in moduleSummary  = \",len(custTimeReport['moduleSummary']))"
   ]
  },
  {
   "cell_type": "code",
   "execution_count": null,
   "metadata": {
    "code_folding": []
   },
   "outputs": [],
   "source": [
    "origModuleList=list(origTimeReport['moduleSummary'].keys())\n",
    "custModuleList=list(custTimeReport['moduleSummary'].keys())\n",
    "deletedModules=[]\n",
    "swappedModules=[]\n",
    "\n",
    "i=1\n",
    "print(\"deleted modules \")\n",
    "for om in origModuleList:\n",
    "    if om not in custModuleList:\n",
    "        print(i,\"\\t\",om)\n",
    "        deletedModules.append(om)\n",
    "        i+=1\n",
    "f=open('swappedModules.txt','r')\n",
    "l=f.readline()\n",
    "print(\"\\nswapped modules \")\n",
    "i=1\n",
    "while l:\n",
    "    swappedModules.append(l[:-1])\n",
    "    print(i,\"\\t\",l[:-1])\n",
    "    i+=1\n",
    "    l=f.readline()\n",
    "f.close()\n"
   ]
  },
  {
   "cell_type": "code",
   "execution_count": null,
   "metadata": {},
   "outputs": [],
   "source": [
    "perEvt={'orig':[],'cust':[]}\n",
    "perVisit={'orig':[],'cust':[]}\n",
    "perExec={'orig':[],'cust':[]}\n",
    "\n",
    "for modu in deletedModules:\n",
    "    perEvt['orig'].append(origTimeReport['moduleSummary'][modu]['perEvent'])\n",
    "    perVisit['orig'].append(origTimeReport['moduleSummary'][modu]['perVisit'])\n",
    "    perExec['orig'].append(origTimeReport['moduleSummary'][modu]['perExec'])\n",
    "\n",
    "    perEvt['cust'].append(0.0)\n",
    "    perVisit['cust'].append(0.0)\n",
    "    perExec['cust'].append(0.0)\n",
    "\n",
    "for modu in swappedModules:\n",
    "    if modu=='hltIter0HighPtTkMuPixelTracks':\n",
    "        print(\"got it\")\n",
    "        continue\n",
    "    perEvt['orig'].append(origTimeReport['moduleSummary'][modu]['perEvent'])\n",
    "    perVisit['orig'].append(origTimeReport['moduleSummary'][modu]['perVisit'])\n",
    "    perExec['orig'].append(origTimeReport['moduleSummary'][modu]['perExec'])\n",
    "\n",
    "    perEvt['cust'].append(custTimeReport['moduleSummary'][modu]['perEvent'])\n",
    "    perVisit['cust'].append(custTimeReport['moduleSummary'][modu]['perVisit'])\n",
    "    perExec['cust'].append(custTimeReport['moduleSummary'][modu]['perExec'])"
   ]
  },
  {
   "cell_type": "code",
   "execution_count": null,
   "metadata": {},
   "outputs": [],
   "source": [
    "import numpy as np"
   ]
  },
  {
   "cell_type": "code",
   "execution_count": null,
   "metadata": {},
   "outputs": [],
   "source": [
    "print(np.round(sum(perEvt['orig'])*1000,3),np.round(sum(perEvt['cust'])*1000,3))\n",
    "print(np.round(sum(perVisit['orig'])*1000,3),np.round(sum(perVisit['cust'])*1000,3))\n",
    "print(np.round(sum(perExec['orig'])*1000,3),np.round(sum(perExec['cust'])*1000,3))"
   ]
  },
  {
   "cell_type": "markdown",
   "metadata": {},
   "source": [
    "#### Results for the Muon Reco using TrackSelectorByRegion\n",
    "* PerEvent 0.667  -> 0.023\n",
    "* PerVisit 0.441  -> 0.018\n",
    "* PerExec  1.058  -> 0.039"
   ]
  },
  {
   "cell_type": "markdown",
   "metadata": {},
   "source": [
    "### Read Json from FastTimeService"
   ]
  },
  {
   "cell_type": "code",
   "execution_count": null,
   "metadata": {},
   "outputs": [],
   "source": [
    "import json\n",
    "import numpy as np"
   ]
  },
  {
   "cell_type": "code",
   "execution_count": null,
   "metadata": {},
   "outputs": [],
   "source": [
    "with open('TTBarNoCustResourcesSat22Aug.json') as f:\n",
    "    origFTS = json.load(f)\n",
    "with open('TTBarAllButRegClusSat22Aug.json') as f:\n",
    "    custFTS = json.load(f)\n",
    "origModuleList=[ modu['label'] for modu in origFTS['modules'] ]\n",
    "custModuleList=[ modu['label'] for modu in custFTS['modules'] ]"
   ]
  },
  {
   "cell_type": "code",
   "execution_count": null,
   "metadata": {},
   "outputs": [],
   "source": [
    "f=open('pixelTracks.txt','w')\n",
    "for modu in origFTS['modules']:\n",
    "    if 'PixelTrackProducer' in modu['type']:\n",
    "#         print (modu['label'], \"\\t\",modu['type'])\n",
    "        f.write(modu['label']+\"\\t\"+modu['type']+'\\n')\n",
    "f.close()\n",
    "\n",
    "f=open('trackingRegions.txt','w')\n",
    "for modu in origFTS['modules']:\n",
    "    if 'TrackingRegion' in modu['label']:\n",
    "#         print (modu['label'], \"\\t\",modu['type'])\n",
    "        f.write(modu['label']+\"\\t\"+modu['type']+'\\n')\n",
    "f.close()"
   ]
  },
  {
   "cell_type": "code",
   "execution_count": null,
   "metadata": {},
   "outputs": [],
   "source": [
    "swappedModules=[]\n",
    "f=open('swappedModules.txt','r')\n",
    "l=f.readline()\n",
    "print(\"\\nswapped modules \")\n",
    "i=1\n",
    "while l:\n",
    "    swappedModules.append(l[:-1])\n",
    "    print(i,\"\\t\",l[:-1])\n",
    "    i+=1\n",
    "    l=f.readline()\n",
    "f.close()\n",
    "\n",
    "i=1\n",
    "deletedModules=[]\n",
    "print(\"\\nDeleted modules\")\n",
    "for module in origModuleList:\n",
    "    if module not in custModuleList:\n",
    "        deletedModules.append(module)\n",
    "        print(i,\"\\t\",module)\n",
    "        i+=1\n",
    "    "
   ]
  },
  {
   "cell_type": "code",
   "execution_count": null,
   "metadata": {
    "code_folding": [
     0
    ]
   },
   "outputs": [],
   "source": [
    "# with open('ZMuMuNoCustResources.json') as f:\n",
    "#     origFTS = json.load(f)\n",
    "# with open('AllButRegClustersResources.json') as f:\n",
    "#     custFTS = json.load(f)\n",
    "# origModuleList=[ modu['label'] for modu in origFTS['modules'] ]\n",
    "# custModuleList=[ modu['label'] for modu in custFTS['modules'] ]\n",
    "# swappedModules=[]\n",
    "# f=open('swappedModules.txt','r')\n",
    "# l=f.readline()\n",
    "# print(\"\\nswapped modules \")\n",
    "# i=1\n",
    "# while l:\n",
    "#     swappedModules.append(l[:-1])\n",
    "#     print(i,\"\\t\",l[:-1])\n",
    "#     i+=1\n",
    "#     l=f.readline()\n",
    "# f.close()\n",
    "\n",
    "# i=1\n",
    "# deletedModules=[]\n",
    "# print(\"\\nDeleted modules\")\n",
    "# for module in origModuleList:\n",
    "#     if module not in custModuleList:\n",
    "#         deletedModules.append(module)\n",
    "#         print(i,\"\\t\",module)\n",
    "#         i+=1\n",
    "    "
   ]
  },
  {
   "cell_type": "code",
   "execution_count": null,
   "metadata": {},
   "outputs": [],
   "source": [
    "origTime={}\n",
    "custTime={}\n",
    "origVal=0.0\n",
    "custVal=0.0\n",
    "idx='time_thread'\n",
    "for modu in origFTS['modules']:\n",
    "    if modu['label'] in swappedModules:\n",
    "        origTime.update({modu['label']:modu[idx]})\n",
    "        origVal+=modu[idx]\n",
    "        \n",
    "for modu in custFTS['modules']:\n",
    "    if modu['label'] in swappedModules:\n",
    "        custTime.update({modu['label']:modu[idx]})        \n",
    "        custVal+=modu[idx]\n",
    "    \n",
    "for key in origTime.keys():        \n",
    "    print(key,\"\\t\",np.round(origTime[key],3),\"\\t\",np.round(custTime[key],3))\n",
    "\n",
    "for modu in origFTS['modules']:    \n",
    "    if modu['label'] in deletedModules:\n",
    "        print(modu['label'],\"\\t\",np.round(modu[idx],3),\"\\t0.0 \")\n",
    "        origVal+=modu[idx]\n",
    "print(\"Total Original value   : \",origVal)\n",
    "print(\"Total Customized value : \",custVal)"
   ]
  },
  {
   "cell_type": "code",
   "execution_count": null,
   "metadata": {},
   "outputs": [],
   "source": [
    "def printDetails(jdata,mlabel):\n",
    "    for modu in jdata['modules']:\n",
    "        if modu['label'] ==mlabel:\n",
    "            for k in modu:\n",
    "                print(k,\" : \",modu[k])\n",
    "            break\n",
    "    "
   ]
  },
  {
   "cell_type": "code",
   "execution_count": null,
   "metadata": {},
   "outputs": [],
   "source": [
    "printDetails(origFTS,'hltIter1ClustersRefRemoval')"
   ]
  }
 ],
 "metadata": {
  "kernelspec": {
   "display_name": "Python 3",
   "language": "python",
   "name": "python3"
  },
  "language_info": {
   "codemirror_mode": {
    "name": "ipython",
    "version": 3
   },
   "file_extension": ".py",
   "mimetype": "text/x-python",
   "name": "python",
   "nbconvert_exporter": "python",
   "pygments_lexer": "ipython3",
   "version": "3.7.6"
  }
 },
 "nbformat": 4,
 "nbformat_minor": 4
}
