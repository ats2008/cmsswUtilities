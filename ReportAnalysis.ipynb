{
 "cells": [
  {
   "cell_type": "code",
   "execution_count": null,
   "metadata": {},
   "outputs": [],
   "source": []
  },
  {
   "cell_type": "markdown",
   "metadata": {},
   "source": [
    "### Read the HLT-Report \n",
    "*HLTReport*\n",
    "  * path name\n",
    "    * WasRun\n",
    "    * L1S\n",
    "    * Pre\n",
    "    * HLT\n",
    "    * %L1sPre\n",
    "    * Rate\n",
    "    * RateHi\n",
    "    * Errors"
   ]
  },
  {
   "cell_type": "code",
   "execution_count": 100,
   "metadata": {
    "code_folding": [
     0
    ]
   },
   "outputs": [],
   "source": [
    "def getHLTReport(fname):\n",
    "    f=open('logNoCust','r')\n",
    "    l=f.readline()\n",
    "    hltReportDict={'WasRun':0.0,'L1S':0.0,'Pre':0.0,'HLT':0.0,'%L1sPre':0,'Rate':0.0,'RateHi':0.0, 'Errors':0}\n",
    "    hltReportKeys=list(hltReportDict.keys())\n",
    "    HLTReport={}\n",
    "    SummaryFlag=False\n",
    "    while l:\n",
    "        if 'HLT-Report' not in l:\n",
    "            l=f.readline()\n",
    "            continue\n",
    "        if '---------- HLTrig Summary ------------' in l:\n",
    "            SummaryFlag=True\n",
    "            l=f.readline()\n",
    "            l=f.readline()\n",
    "            continue\n",
    "        if 'end!' in l:\n",
    "            SummaryFlag=False\n",
    "            break\n",
    "        if SummaryFlag:\n",
    "            currdict=hltReportDict.copy()\n",
    "            items=l[:-1].split(' ')\n",
    "            while '' in items:\n",
    "                items.remove('')\n",
    "            items.pop(0)\n",
    "            items.pop(0)\n",
    "            for i in range(len(hltReportKeys)):\n",
    "                currdict[hltReportKeys[i]]=float(items[i])\n",
    "            HLTReport.update({items[-1]:currdict})\n",
    "        l=f.readline()\n",
    "    f.close()\n",
    "    return HLTReport"
   ]
  },
  {
   "cell_type": "markdown",
   "metadata": {},
   "source": [
    "### Read the Time Report\n",
    " \n",
    "*TimeReport*\n",
    "  * pathSummary\n",
    "    * perEvent\n",
    "    * perExec\n",
    "    \n",
    "  * pathDetails \n",
    "    * path_name\n",
    "      * perEvent \n",
    "      * perVisit\n",
    "      * Name\n",
    "      \n",
    "  * moduleSummary \n",
    "    * module_name\n",
    "      * perEvent\n",
    "      * perExec\n",
    "      * perVisit  \n",
    "    "
   ]
  },
  {
   "cell_type": "code",
   "execution_count": 102,
   "metadata": {
    "code_folding": [
     0
    ]
   },
   "outputs": [],
   "source": [
    "def getTimeReport(fname):\n",
    "    f=open(fname,'r')\n",
    "    l=f.readline()\n",
    "\n",
    "    timeReportDict={'perEvent':0.0,'perExec':0.0}\n",
    "    timeReportKeys=list(timeReportDict.keys())\n",
    "\n",
    "    timeReportDetailsDict={'perEvent':[],'perVisit':[],'Name':[]}\n",
    "    timeReportDetailsDictKeys=list(timeReportDetailsDict.keys())\n",
    "\n",
    "    timeReportModulesDict={'perEvent':[],'perExec':[],'perVisit':[]}\n",
    "    timeReportModulesDictKeys=list(timeReportModulesDict.keys())\n",
    "\n",
    "    TimeReport={'pathSummary':{},'pathDetails':{},'moduleSummary':{}}\n",
    "    SummaryFlag=False\n",
    "    DetailsFlag=False\n",
    "    ModulesFlag=False\n",
    "    while l:\n",
    "        if 'TimeReport' not in l:\n",
    "            SummaryFlag=False\n",
    "            DetailsFlag=False\n",
    "            ModulesFlag=False\n",
    "            l=f.readline()\n",
    "            continue\n",
    "        if 'per event    per visit  Name' in l :\n",
    "            l=f.readline()\n",
    "            continue\n",
    "    #     print(l[:-1])\n",
    "        if '---------- Path   Summary ---' in l:\n",
    "            SummaryFlag=True\n",
    "            l=f.readline()\n",
    "            l=f.readline()\n",
    "            continue\n",
    "        if '---------- Module Summary --' in l:\n",
    "            ModulesFlag=True\n",
    "            l=f.readline()\n",
    "            l=f.readline()\n",
    "            continue\n",
    "\n",
    "        if '---------- Modules in Path:' in l:\n",
    "            DetailsFlag=True\n",
    "            l=l[:-1].replace(\"---------- Modules in Path: \",\"\")\n",
    "            l=l.replace(\" ---[Real sec]----\",\"\")\n",
    "            currPath=l.replace(\"TimeReport \",\"\")\n",
    "            TimeReport['pathDetails'].update({currPath:timeReportDetailsDict.copy()})\n",
    "    #         print(l)\n",
    "            l=f.readline()\n",
    "            l=f.readline()\n",
    "            continue\n",
    "\n",
    "        ## bug fix\n",
    "        if 'per event ' in l:\n",
    "            SummaryFlag=False\n",
    "            ModulesFlag=False\n",
    "\n",
    "        if SummaryFlag:\n",
    "            currdict=timeReportDict.copy()\n",
    "            items=l[:-1].split(' ')\n",
    "            while '' in items:\n",
    "                items.remove('')\n",
    "            items.pop(0)\n",
    "    #         print(items)\n",
    "            for i in range(len(timeReportKeys)):\n",
    "                currdict[timeReportKeys[i]]=float(items[i])\n",
    "            TimeReport['pathSummary'].update({items[-1]:currdict})\n",
    "\n",
    "        if DetailsFlag:\n",
    "    #         print(l[:-1])\n",
    "            items=l[:-1].split(' ')\n",
    "            while '' in items:\n",
    "                items.remove('')\n",
    "            items.pop(0)\n",
    "            for i in range(len(timeReportDetailsDictKeys)-1):\n",
    "                TimeReport['pathDetails'][currPath][timeReportDetailsDictKeys[i]].append(float(items[i]))\n",
    "            TimeReport['pathDetails'][currPath][timeReportDetailsDictKeys[-1]].append(items[i])\n",
    "\n",
    "        if ModulesFlag:\n",
    "            currdict=timeReportModulesDict.copy()\n",
    "            items=l[:-1].split(' ')\n",
    "            while '' in items:\n",
    "                items.remove('')\n",
    "            items.pop(0)\n",
    "    #         print(l[:-1])\n",
    "    #         print(items)\n",
    "            for i in range(len(timeReportModulesDictKeys)):\n",
    "                currdict[timeReportModulesDictKeys[i]]=float(items[i])\n",
    "            TimeReport['moduleSummary'].update({items[-1]:currdict})\n",
    "\n",
    "        l=f.readline()\n",
    "    f.close()\n",
    "    return TimeReport"
   ]
  },
  {
   "cell_type": "code",
   "execution_count": 101,
   "metadata": {},
   "outputs": [
    {
     "name": "stdout",
     "output_type": "stream",
     "text": [
      " total number of  paths  =  739\n",
      " total number of  paths in pathSummary  =  739\n",
      " total number of  paths in pathDetails  =  739\n",
      " total number of  modules in moduleSummary  =  6367\n"
     ]
    }
   ],
   "source": [
    "HLTReport=getHLTReport('logNoCust')\n",
    "TimeReport=getTimeReport('logNoCust')\n",
    "print(\" total number of  paths  = \",len(HLTReport))\n",
    "print(\" total number of  paths in pathSummary  = \",len(TimeReport['pathSummary']))\n",
    "print(\" total number of  paths in pathDetails  = \",len(TimeReport['pathDetails']))\n",
    "print(\" total number of  modules in moduleSummary  = \",len(TimeReport['moduleSummary']))"
   ]
  }
 ],
 "metadata": {
  "kernelspec": {
   "display_name": "Python 3",
   "language": "python",
   "name": "python3"
  },
  "language_info": {
   "codemirror_mode": {
    "name": "ipython",
    "version": 3
   },
   "file_extension": ".py",
   "mimetype": "text/x-python",
   "name": "python",
   "nbconvert_exporter": "python",
   "pygments_lexer": "ipython3",
   "version": "3.7.6"
  }
 },
 "nbformat": 4,
 "nbformat_minor": 4
}
